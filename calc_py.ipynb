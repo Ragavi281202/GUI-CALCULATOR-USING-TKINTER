{
  "nbformat": 4,
  "nbformat_minor": 0,
  "metadata": {
    "colab": {
      "provenance": []
    },
    "kernelspec": {
      "name": "python3",
      "display_name": "Python 3"
    },
    "language_info": {
      "name": "python"
    }
  },
  "cells": [
    {
      "cell_type": "code",
      "source": [
        "import matplotlib\n",
        "matplotlib.use('Agg')"
      ],
      "metadata": {
        "id": "KOGXuXRI36SM"
      },
      "execution_count": 10,
      "outputs": []
    },
    {
      "cell_type": "code",
      "source": [
        "import tkinter as tk\n",
        "\n",
        "def button_click(number):\n",
        "    current = display.get()\n",
        "    display.delete(0, tk.END)\n",
        "    display.insert(tk.END, current + str(number))\n",
        "\n",
        "def button_clear():\n",
        "    display.delete(0, tk.END)\n",
        "\n",
        "def button_equal():\n",
        "    expression = display.get()\n",
        "    result = eval(expression)\n",
        "    display.delete(0, tk.END)\n",
        "    display.insert(tk.END, result)\n",
        "\n",
        "# Create the main window\n",
        "window = tk.Tk()\n",
        "window.title(\"Calculator\")\n",
        "\n",
        "# Create the display widget\n",
        "display = tk.Entry(window, width=30)\n",
        "display.grid(row=0, column=0, columnspan=4)\n",
        "\n",
        "# Define the buttons\n",
        "button_1 = tk.Button(window, text=\"1\", padx=10, pady=10, command=lambda: button_click(1))\n",
        "button_2 = tk.Button(window, text=\"2\", padx=10, pady=10, command=lambda: button_click(2))\n",
        "button_3 = tk.Button(window, text=\"3\", padx=10, pady=10, command=lambda: button_click(3))\n",
        "button_4 = tk.Button(window, text=\"4\", padx=10, pady=10, command=lambda: button_click(4))\n",
        "button_5 = tk.Button(window, text=\"5\", padx=10, pady=10, command=lambda: button_click(5))\n",
        "button_6 = tk.Button(window, text=\"6\", padx=10, pady=10, command=lambda: button_click(6))\n",
        "button_7 = tk.Button(window, text=\"7\", padx=10, pady=10, command=lambda: button_click(7))\n",
        "button_8 = tk.Button(window, text=\"8\", padx=10, pady=10, command=lambda: button_click(8))\n",
        "button_9 = tk.Button(window, text=\"9\", padx=10, pady=10, command=lambda: button_click(9))\n",
        "button_0 = tk.Button(window, text=\"0\", padx=10, pady=10, command=lambda: button_click(0))\n",
        "button_add = tk.Button(window, text=\"+\", padx=10, pady=10, command=lambda: button_click(\"+\"))\n",
        "button_subtract = tk.Button(window, text=\"-\", padx=10, pady=10, command=lambda: button_click(\"-\"))\n",
        "button_multiply = tk.Button(window, text=\"*\", padx=10, pady=10, command=lambda: button_click(\"*\"))\n",
        "button_divide = tk.Button(window, text=\"/\", padx=10, pady=10, command=lambda: button_click(\"/\"))\n",
        "button_clear = tk.Button(window, text=\"C\", padx=10, pady=10, command=button_clear)\n",
        "button_equal = tk.Button(window, text=\"=\", padx=10, pady=10, command=button_equal)\n",
        "\n",
        "# Position the buttons\n",
        "button_1.grid(row=1, column=0)\n",
        "button_2.grid(row=1, column=1)\n",
        "button_3.grid(row=1, column=2)\n",
        "button_4.grid(row=2, column=0)\n",
        "button_5.grid(row=2, column=1)\n",
        "button_6.grid(row=2, column=2)\n",
        "button_7.grid(row=3, column=0)\n",
        "button_8.grid(row=3, column=1)\n",
        "button_9.grid(row=3, column=2)\n",
        "button_0.grid(row=4, column=0)\n",
        "button_add.grid(row=1, column=3)\n",
        "button_subtract.grid(row=2, column=3)\n",
        "button_multiply.grid(row=3, column=3)\n",
        "button_divide.grid(row=4, column=3)\n",
        "button_clear.grid(row=4, column=1)\n",
        "button_equal.grid(row=4, column=2)\n",
        "\n",
        "# Start the main loop\n",
        "window.mainloop()\n"
      ],
      "metadata": {
        "id": "JIY2fuf63eln"
      },
      "execution_count": null,
      "outputs": []
    }
  ]
}